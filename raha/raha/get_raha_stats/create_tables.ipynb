{
 "cells": [
  {
   "cell_type": "code",
   "execution_count": 5,
   "metadata": {},
   "outputs": [
    {
     "name": "stderr",
     "output_type": "stream",
     "text": [
      "/tmp/ipykernel_858997/548325439.py:8: FutureWarning: The frame.append method is deprecated and will be removed from pandas in a future version. Use pandas.concat instead.\n",
      "  final_df = final_df.append({\"raha-version\": \"raha-quintet-2pc-ne\", \"dataset\": \"Quintet\", \"labeling_budget_cells\": two_p_c_df.iloc[i][\"labeling_budget\"], \"precision\": two_p_c_df.iloc[i][\"precision\"], \"recall\": two_p_c_df.iloc[i][\"recall\"], \"f1-score\": two_p_c_df.iloc[i][\"f_score\"]}, ignore_index=True)\n",
      "/tmp/ipykernel_858997/548325439.py:13: FutureWarning: The frame.append method is deprecated and will be removed from pandas in a future version. Use pandas.concat instead.\n",
      "  final_df = final_df.append({\"raha-version\": \"raha-quintet-20pc-ne\", \"dataset\": \"Quintet\", \"labeling_budget_cells\": two_p_c_df.iloc[i][\"labeling_budget\"], \"precision\": 0, \"recall\": 0, \"f1-score\": 0}, ignore_index=True)\n",
      "/tmp/ipykernel_858997/548325439.py:8: FutureWarning: The frame.append method is deprecated and will be removed from pandas in a future version. Use pandas.concat instead.\n",
      "  final_df = final_df.append({\"raha-version\": \"raha-quintet-2pc-ne\", \"dataset\": \"Quintet\", \"labeling_budget_cells\": two_p_c_df.iloc[i][\"labeling_budget\"], \"precision\": two_p_c_df.iloc[i][\"precision\"], \"recall\": two_p_c_df.iloc[i][\"recall\"], \"f1-score\": two_p_c_df.iloc[i][\"f_score\"]}, ignore_index=True)\n",
      "/tmp/ipykernel_858997/548325439.py:13: FutureWarning: The frame.append method is deprecated and will be removed from pandas in a future version. Use pandas.concat instead.\n",
      "  final_df = final_df.append({\"raha-version\": \"raha-quintet-20pc-ne\", \"dataset\": \"Quintet\", \"labeling_budget_cells\": two_p_c_df.iloc[i][\"labeling_budget\"], \"precision\": 0, \"recall\": 0, \"f1-score\": 0}, ignore_index=True)\n",
      "/tmp/ipykernel_858997/548325439.py:8: FutureWarning: The frame.append method is deprecated and will be removed from pandas in a future version. Use pandas.concat instead.\n",
      "  final_df = final_df.append({\"raha-version\": \"raha-quintet-2pc-ne\", \"dataset\": \"Quintet\", \"labeling_budget_cells\": two_p_c_df.iloc[i][\"labeling_budget\"], \"precision\": two_p_c_df.iloc[i][\"precision\"], \"recall\": two_p_c_df.iloc[i][\"recall\"], \"f1-score\": two_p_c_df.iloc[i][\"f_score\"]}, ignore_index=True)\n",
      "/tmp/ipykernel_858997/548325439.py:11: FutureWarning: The frame.append method is deprecated and will be removed from pandas in a future version. Use pandas.concat instead.\n",
      "  final_df = final_df.append({\"raha-version\": \"raha-quintet-20pc-ne\", \"dataset\": \"Quintet\", \"labeling_budget_cells\": row.iloc[0][\"labeling_budget\"], \"precision\": row.iloc[0][\"precision\"], \"recall\": row.iloc[0][\"recall\"], \"f1-score\": row.iloc[0][\"f_score\"]}, ignore_index=True)\n",
      "/tmp/ipykernel_858997/548325439.py:8: FutureWarning: The frame.append method is deprecated and will be removed from pandas in a future version. Use pandas.concat instead.\n",
      "  final_df = final_df.append({\"raha-version\": \"raha-quintet-2pc-ne\", \"dataset\": \"Quintet\", \"labeling_budget_cells\": two_p_c_df.iloc[i][\"labeling_budget\"], \"precision\": two_p_c_df.iloc[i][\"precision\"], \"recall\": two_p_c_df.iloc[i][\"recall\"], \"f1-score\": two_p_c_df.iloc[i][\"f_score\"]}, ignore_index=True)\n",
      "/tmp/ipykernel_858997/548325439.py:11: FutureWarning: The frame.append method is deprecated and will be removed from pandas in a future version. Use pandas.concat instead.\n",
      "  final_df = final_df.append({\"raha-version\": \"raha-quintet-20pc-ne\", \"dataset\": \"Quintet\", \"labeling_budget_cells\": row.iloc[0][\"labeling_budget\"], \"precision\": row.iloc[0][\"precision\"], \"recall\": row.iloc[0][\"recall\"], \"f1-score\": row.iloc[0][\"f_score\"]}, ignore_index=True)\n"
     ]
    }
   ],
   "source": [
    "import pandas as pd\n",
    "two_p_c_df = pd.read_csv(\"./raha/benchmark-results/raha-quintet-2pc-ne.csv\")\n",
    "twenty_p_c_df = pd.read_csv(\"./raha/benchmark-results/raha-quintet-20pc-ne.csv\")\n",
    "\n",
    "final_df = pd.DataFrame(columns=[\"raha-version\", \"dataset\", \"labeling_budget_cells\", \"precision\", \"recall\", \"f1-score\"])\n",
    "\n",
    "for i in range(0, len(two_p_c_df)):\n",
    "    final_df = final_df.append({\"raha-version\": \"raha-quintet-2pc-ne\", \"dataset\": \"Quintet\", \"labeling_budget_cells\": two_p_c_df.iloc[i][\"labeling_budget\"], \"precision\": two_p_c_df.iloc[i][\"precision\"], \"recall\": two_p_c_df.iloc[i][\"recall\"], \"f1-score\": two_p_c_df.iloc[i][\"f_score\"]}, ignore_index=True)\n",
    "    if two_p_c_df.iloc[i][\"labeling_budget\"] in twenty_p_c_df[\"labeling_budget\"].values:\n",
    "        row = twenty_p_c_df[twenty_p_c_df.labeling_budget == two_p_c_df.iloc[i][\"labeling_budget\"]]\n",
    "        final_df = final_df.append({\"raha-version\": \"raha-quintet-20pc-ne\", \"dataset\": \"Quintet\", \"labeling_budget_cells\": row.iloc[0][\"labeling_budget\"], \"precision\": row.iloc[0][\"precision\"], \"recall\": row.iloc[0][\"recall\"], \"f1-score\": row.iloc[0][\"f_score\"]}, ignore_index=True)\n",
    "    else:\n",
    "        final_df = final_df.append({\"raha-version\": \"raha-quintet-20pc-ne\", \"dataset\": \"Quintet\", \"labeling_budget_cells\": two_p_c_df.iloc[i][\"labeling_budget\"], \"precision\": 0, \"recall\": 0, \"f1-score\": 0}, ignore_index=True)\n"
   ]
  },
  {
   "cell_type": "code",
   "execution_count": 7,
   "metadata": {},
   "outputs": [],
   "source": [
    "final_df.to_csv(\"./raha/benchmark-results/raha-versions-quintet-ne.csv\", index=False)"
   ]
  },
  {
   "cell_type": "code",
   "execution_count": null,
   "metadata": {},
   "outputs": [],
   "source": []
  }
 ],
 "metadata": {
  "kernelspec": {
   "display_name": "Benchmarks",
   "language": "python",
   "name": "python3"
  },
  "language_info": {
   "codemirror_mode": {
    "name": "ipython",
    "version": 3
   },
   "file_extension": ".py",
   "mimetype": "text/x-python",
   "name": "python",
   "nbconvert_exporter": "python",
   "pygments_lexer": "ipython3",
   "version": "3.10.4"
  },
  "orig_nbformat": 4
 },
 "nbformat": 4,
 "nbformat_minor": 2
}
